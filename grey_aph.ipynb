{
 "cells": [
  {
   "cell_type": "code",
   "execution_count": 109,
   "metadata": {},
   "outputs": [],
   "source": [
    "import pandas as pd\n",
    "import numpy as np"
   ]
  },
  {
   "cell_type": "code",
   "execution_count": 110,
   "metadata": {},
   "outputs": [],
   "source": [
    "num_of_criteria = 6\n",
    "criteria = ['C1', 'C2', 'C3', 'C4', 'C5', 'C6']\n",
    "number_of_evaluators = 2"
   ]
  },
  {
   "cell_type": "code",
   "execution_count": 116,
   "metadata": {},
   "outputs": [
    {
     "data": {
      "text/html": [
       "<div>\n",
       "<style scoped>\n",
       "    .dataframe tbody tr th:only-of-type {\n",
       "        vertical-align: middle;\n",
       "    }\n",
       "\n",
       "    .dataframe tbody tr th {\n",
       "        vertical-align: top;\n",
       "    }\n",
       "\n",
       "    .dataframe thead th {\n",
       "        text-align: right;\n",
       "    }\n",
       "</style>\n",
       "<table border=\"1\" class=\"dataframe\">\n",
       "  <thead>\n",
       "    <tr style=\"text-align: right;\">\n",
       "      <th></th>\n",
       "      <th>C-R</th>\n",
       "      <th>EZ-R</th>\n",
       "      <th>VJZ-R</th>\n",
       "      <th>JZ-R</th>\n",
       "      <th>SZ-R</th>\n",
       "      <th>PZ</th>\n",
       "      <th>SZ-L</th>\n",
       "      <th>JZ-L</th>\n",
       "      <th>VJZ-L</th>\n",
       "      <th>EZ-L</th>\n",
       "      <th>C-L</th>\n",
       "    </tr>\n",
       "  </thead>\n",
       "  <tbody>\n",
       "    <tr>\n",
       "      <td>0</td>\n",
       "      <td>C1</td>\n",
       "      <td>0.0</td>\n",
       "      <td>0.0</td>\n",
       "      <td>0.0</td>\n",
       "      <td>0.0</td>\n",
       "      <td>0.0</td>\n",
       "      <td>0.0</td>\n",
       "      <td>0.0</td>\n",
       "      <td>0.0</td>\n",
       "      <td>2.0</td>\n",
       "      <td>C2</td>\n",
       "    </tr>\n",
       "    <tr>\n",
       "      <td>1</td>\n",
       "      <td>C1</td>\n",
       "      <td>0.0</td>\n",
       "      <td>0.0</td>\n",
       "      <td>0.0</td>\n",
       "      <td>1.0</td>\n",
       "      <td>0.0</td>\n",
       "      <td>0.0</td>\n",
       "      <td>0.0</td>\n",
       "      <td>0.0</td>\n",
       "      <td>1.0</td>\n",
       "      <td>C3</td>\n",
       "    </tr>\n",
       "    <tr>\n",
       "      <td>2</td>\n",
       "      <td>C1</td>\n",
       "      <td>0.0</td>\n",
       "      <td>0.0</td>\n",
       "      <td>0.0</td>\n",
       "      <td>0.0</td>\n",
       "      <td>1.0</td>\n",
       "      <td>1.0</td>\n",
       "      <td>0.0</td>\n",
       "      <td>0.0</td>\n",
       "      <td>0.0</td>\n",
       "      <td>C4</td>\n",
       "    </tr>\n",
       "    <tr>\n",
       "      <td>3</td>\n",
       "      <td>C1</td>\n",
       "      <td>0.0</td>\n",
       "      <td>1.0</td>\n",
       "      <td>1.0</td>\n",
       "      <td>0.0</td>\n",
       "      <td>0.0</td>\n",
       "      <td>0.0</td>\n",
       "      <td>0.0</td>\n",
       "      <td>0.0</td>\n",
       "      <td>0.0</td>\n",
       "      <td>C5</td>\n",
       "    </tr>\n",
       "    <tr>\n",
       "      <td>4</td>\n",
       "      <td>C1</td>\n",
       "      <td>0.0</td>\n",
       "      <td>0.0</td>\n",
       "      <td>0.0</td>\n",
       "      <td>0.0</td>\n",
       "      <td>0.0</td>\n",
       "      <td>0.0</td>\n",
       "      <td>1.0</td>\n",
       "      <td>0.0</td>\n",
       "      <td>1.0</td>\n",
       "      <td>C6</td>\n",
       "    </tr>\n",
       "    <tr>\n",
       "      <td>5</td>\n",
       "      <td>C2</td>\n",
       "      <td>1.0</td>\n",
       "      <td>0.0</td>\n",
       "      <td>0.0</td>\n",
       "      <td>1.0</td>\n",
       "      <td>0.0</td>\n",
       "      <td>0.0</td>\n",
       "      <td>0.0</td>\n",
       "      <td>0.0</td>\n",
       "      <td>0.0</td>\n",
       "      <td>C3</td>\n",
       "    </tr>\n",
       "    <tr>\n",
       "      <td>6</td>\n",
       "      <td>C2</td>\n",
       "      <td>2.0</td>\n",
       "      <td>0.0</td>\n",
       "      <td>0.0</td>\n",
       "      <td>0.0</td>\n",
       "      <td>0.0</td>\n",
       "      <td>0.0</td>\n",
       "      <td>0.0</td>\n",
       "      <td>0.0</td>\n",
       "      <td>0.0</td>\n",
       "      <td>C4</td>\n",
       "    </tr>\n",
       "    <tr>\n",
       "      <td>7</td>\n",
       "      <td>C2</td>\n",
       "      <td>2.0</td>\n",
       "      <td>0.0</td>\n",
       "      <td>0.0</td>\n",
       "      <td>0.0</td>\n",
       "      <td>0.0</td>\n",
       "      <td>0.0</td>\n",
       "      <td>0.0</td>\n",
       "      <td>0.0</td>\n",
       "      <td>0.0</td>\n",
       "      <td>C5</td>\n",
       "    </tr>\n",
       "    <tr>\n",
       "      <td>8</td>\n",
       "      <td>C2</td>\n",
       "      <td>0.0</td>\n",
       "      <td>0.0</td>\n",
       "      <td>2.0</td>\n",
       "      <td>0.0</td>\n",
       "      <td>0.0</td>\n",
       "      <td>0.0</td>\n",
       "      <td>0.0</td>\n",
       "      <td>0.0</td>\n",
       "      <td>0.0</td>\n",
       "      <td>C6</td>\n",
       "    </tr>\n",
       "    <tr>\n",
       "      <td>9</td>\n",
       "      <td>C3</td>\n",
       "      <td>0.0</td>\n",
       "      <td>1.0</td>\n",
       "      <td>0.0</td>\n",
       "      <td>0.0</td>\n",
       "      <td>0.0</td>\n",
       "      <td>0.0</td>\n",
       "      <td>0.0</td>\n",
       "      <td>0.0</td>\n",
       "      <td>0.0</td>\n",
       "      <td>C4</td>\n",
       "    </tr>\n",
       "    <tr>\n",
       "      <td>10</td>\n",
       "      <td>C3</td>\n",
       "      <td>1.0</td>\n",
       "      <td>0.0</td>\n",
       "      <td>0.0</td>\n",
       "      <td>0.0</td>\n",
       "      <td>1.0</td>\n",
       "      <td>0.0</td>\n",
       "      <td>0.0</td>\n",
       "      <td>0.0</td>\n",
       "      <td>0.0</td>\n",
       "      <td>C5</td>\n",
       "    </tr>\n",
       "    <tr>\n",
       "      <td>11</td>\n",
       "      <td>C3</td>\n",
       "      <td>0.0</td>\n",
       "      <td>0.0</td>\n",
       "      <td>1.0</td>\n",
       "      <td>0.0</td>\n",
       "      <td>0.0</td>\n",
       "      <td>1.0</td>\n",
       "      <td>0.0</td>\n",
       "      <td>0.0</td>\n",
       "      <td>0.0</td>\n",
       "      <td>C6</td>\n",
       "    </tr>\n",
       "    <tr>\n",
       "      <td>12</td>\n",
       "      <td>C4</td>\n",
       "      <td>0.0</td>\n",
       "      <td>0.0</td>\n",
       "      <td>1.0</td>\n",
       "      <td>0.0</td>\n",
       "      <td>0.0</td>\n",
       "      <td>0.0</td>\n",
       "      <td>1.0</td>\n",
       "      <td>0.0</td>\n",
       "      <td>0.0</td>\n",
       "      <td>C5</td>\n",
       "    </tr>\n",
       "    <tr>\n",
       "      <td>13</td>\n",
       "      <td>C4</td>\n",
       "      <td>0.0</td>\n",
       "      <td>0.0</td>\n",
       "      <td>0.0</td>\n",
       "      <td>0.0</td>\n",
       "      <td>0.0</td>\n",
       "      <td>0.0</td>\n",
       "      <td>1.0</td>\n",
       "      <td>1.0</td>\n",
       "      <td>0.0</td>\n",
       "      <td>C6</td>\n",
       "    </tr>\n",
       "    <tr>\n",
       "      <td>14</td>\n",
       "      <td>C5</td>\n",
       "      <td>0.0</td>\n",
       "      <td>0.0</td>\n",
       "      <td>0.0</td>\n",
       "      <td>0.0</td>\n",
       "      <td>0.0</td>\n",
       "      <td>0.0</td>\n",
       "      <td>0.0</td>\n",
       "      <td>1.0</td>\n",
       "      <td>1.0</td>\n",
       "      <td>C6</td>\n",
       "    </tr>\n",
       "  </tbody>\n",
       "</table>\n",
       "</div>"
      ],
      "text/plain": [
       "   C-R  EZ-R  VJZ-R  JZ-R  SZ-R   PZ  SZ-L  JZ-L  VJZ-L  EZ-L C-L\n",
       "0   C1   0.0    0.0   0.0   0.0  0.0   0.0   0.0    0.0   2.0  C2\n",
       "1   C1   0.0    0.0   0.0   1.0  0.0   0.0   0.0    0.0   1.0  C3\n",
       "2   C1   0.0    0.0   0.0   0.0  1.0   1.0   0.0    0.0   0.0  C4\n",
       "3   C1   0.0    1.0   1.0   0.0  0.0   0.0   0.0    0.0   0.0  C5\n",
       "4   C1   0.0    0.0   0.0   0.0  0.0   0.0   1.0    0.0   1.0  C6\n",
       "5   C2   1.0    0.0   0.0   1.0  0.0   0.0   0.0    0.0   0.0  C3\n",
       "6   C2   2.0    0.0   0.0   0.0  0.0   0.0   0.0    0.0   0.0  C4\n",
       "7   C2   2.0    0.0   0.0   0.0  0.0   0.0   0.0    0.0   0.0  C5\n",
       "8   C2   0.0    0.0   2.0   0.0  0.0   0.0   0.0    0.0   0.0  C6\n",
       "9   C3   0.0    1.0   0.0   0.0  0.0   0.0   0.0    0.0   0.0  C4\n",
       "10  C3   1.0    0.0   0.0   0.0  1.0   0.0   0.0    0.0   0.0  C5\n",
       "11  C3   0.0    0.0   1.0   0.0  0.0   1.0   0.0    0.0   0.0  C6\n",
       "12  C4   0.0    0.0   1.0   0.0  0.0   0.0   1.0    0.0   0.0  C5\n",
       "13  C4   0.0    0.0   0.0   0.0  0.0   0.0   1.0    1.0   0.0  C6\n",
       "14  C5   0.0    0.0   0.0   0.0  0.0   0.0   0.0    1.0   1.0  C6"
      ]
     },
     "execution_count": 116,
     "metadata": {},
     "output_type": "execute_result"
    }
   ],
   "source": [
    "path = '../g-aph-matrix-results.xlsx'\n",
    "results_df = pd.read_excel(path, header=0)\n",
    "results_df = results_df.fillna(0)\n",
    "results_df_for_print = results_df\n",
    "results_df"
   ]
  },
  {
   "cell_type": "code",
   "execution_count": 80,
   "metadata": {},
   "outputs": [
    {
     "data": {
      "text/html": [
       "<div>\n",
       "<style scoped>\n",
       "    .dataframe tbody tr th:only-of-type {\n",
       "        vertical-align: middle;\n",
       "    }\n",
       "\n",
       "    .dataframe tbody tr th {\n",
       "        vertical-align: top;\n",
       "    }\n",
       "\n",
       "    .dataframe thead th {\n",
       "        text-align: right;\n",
       "    }\n",
       "</style>\n",
       "<table border=\"1\" class=\"dataframe\">\n",
       "  <thead>\n",
       "    <tr style=\"text-align: right;\">\n",
       "      <th></th>\n",
       "      <th>Linguistic Scale</th>\n",
       "      <th>Code</th>\n",
       "      <th>Grey Numbers</th>\n",
       "    </tr>\n",
       "  </thead>\n",
       "  <tbody>\n",
       "    <tr>\n",
       "      <td>0</td>\n",
       "      <td>Podjednaka znacajnost</td>\n",
       "      <td>PZ</td>\n",
       "      <td>[1, 2]</td>\n",
       "    </tr>\n",
       "    <tr>\n",
       "      <td>1</td>\n",
       "      <td>Srednja znacajnost</td>\n",
       "      <td>SZ</td>\n",
       "      <td>[2, 4]</td>\n",
       "    </tr>\n",
       "    <tr>\n",
       "      <td>2</td>\n",
       "      <td>Jaka znacajnost</td>\n",
       "      <td>JZ</td>\n",
       "      <td>[4, 6]</td>\n",
       "    </tr>\n",
       "    <tr>\n",
       "      <td>3</td>\n",
       "      <td>Veoma jaka znacajnost</td>\n",
       "      <td>VJZ</td>\n",
       "      <td>[6, 8]</td>\n",
       "    </tr>\n",
       "    <tr>\n",
       "      <td>4</td>\n",
       "      <td>Ekstremna znacajnost</td>\n",
       "      <td>EZ</td>\n",
       "      <td>[8, 10]</td>\n",
       "    </tr>\n",
       "  </tbody>\n",
       "</table>\n",
       "</div>"
      ],
      "text/plain": [
       "        Linguistic Scale Code Grey Numbers\n",
       "0  Podjednaka znacajnost   PZ       [1, 2]\n",
       "1     Srednja znacajnost   SZ       [2, 4]\n",
       "2        Jaka znacajnost   JZ       [4, 6]\n",
       "3  Veoma jaka znacajnost  VJZ       [6, 8]\n",
       "4   Ekstremna znacajnost   EZ      [8, 10]"
      ]
     },
     "execution_count": 80,
     "metadata": {},
     "output_type": "execute_result"
    }
   ],
   "source": [
    "ling_scale = ['Podjednaka znacajnost', 'Srednja znacajnost', 'Jaka znacajnost', 'Veoma jaka znacajnost', 'Ekstremna znacajnost']\n",
    "scale = {'Linguistic Scale': ling_scale, 'Code': ['PZ', 'SZ', 'JZ', 'VJZ', 'EZ'], 'Grey Numbers': [[1, 2], [2, 4], [4, 6], [6, 8], [8, 10]]}\n",
    "scale_df = pd.DataFrame(data=scale)\n",
    "scale_df"
   ]
  },
  {
   "cell_type": "code",
   "execution_count": 81,
   "metadata": {},
   "outputs": [],
   "source": [
    "def fill_diagonal(matrix, fill_value):\n",
    "    matrix_dim = matrix.shape[0]\n",
    "    for i in range(matrix_dim):\n",
    "        for j in range(matrix_dim):\n",
    "            if i == j:\n",
    "                matrix[i,j] = fill_value\n",
    "\n",
    "def print_grey_num(grey_num):\n",
    "    return '[ ' + str(grey_num[0]) + ', ' + str(grey_num[1]) + ' ]'\n",
    "                \n",
    "def print_matrix(matrix):\n",
    "    matrix_dim = matrix.shape[0]\n",
    "    for i in range(matrix_dim):\n",
    "        for j in range(matrix_dim):\n",
    "            print(print_grey_num(matrix[i,j,:]), end =\" \")\n",
    "        print(\"\\n\")"
   ]
  },
  {
   "cell_type": "code",
   "execution_count": 82,
   "metadata": {},
   "outputs": [
    {
     "name": "stdout",
     "output_type": "stream",
     "text": [
      "[ 1.0, 1.0 ] [ 0.0, 0.0 ] [ 0.0, 0.0 ] [ 0.0, 0.0 ] [ 0.0, 0.0 ] [ 0.0, 0.0 ] \n",
      "\n",
      "[ 0.0, 0.0 ] [ 1.0, 1.0 ] [ 0.0, 0.0 ] [ 0.0, 0.0 ] [ 0.0, 0.0 ] [ 0.0, 0.0 ] \n",
      "\n",
      "[ 0.0, 0.0 ] [ 0.0, 0.0 ] [ 1.0, 1.0 ] [ 0.0, 0.0 ] [ 0.0, 0.0 ] [ 0.0, 0.0 ] \n",
      "\n",
      "[ 0.0, 0.0 ] [ 0.0, 0.0 ] [ 0.0, 0.0 ] [ 1.0, 1.0 ] [ 0.0, 0.0 ] [ 0.0, 0.0 ] \n",
      "\n",
      "[ 0.0, 0.0 ] [ 0.0, 0.0 ] [ 0.0, 0.0 ] [ 0.0, 0.0 ] [ 1.0, 1.0 ] [ 0.0, 0.0 ] \n",
      "\n",
      "[ 0.0, 0.0 ] [ 0.0, 0.0 ] [ 0.0, 0.0 ] [ 0.0, 0.0 ] [ 0.0, 0.0 ] [ 1.0, 1.0 ] \n",
      "\n"
     ]
    }
   ],
   "source": [
    "aph_matrix = np.zeros((num_of_criteria, num_of_criteria, 2), dtype=float)\n",
    "fill_diagonal(aph_matrix, [1.0, 1.0])\n",
    "print_matrix(aph_matrix)"
   ]
  },
  {
   "cell_type": "code",
   "execution_count": 83,
   "metadata": {},
   "outputs": [],
   "source": [
    "def get_aph_matrix_indices_for_criteria(right_criteria_str, left_criteria_str):\n",
    "    # remove 'C' from the begining\n",
    "    right_criteria = right_criteria_str[1:len(right_criteria_str):1]\n",
    "    left_criteria = left_criteria_str[1:len(left_criteria_str):1]\n",
    "    return int(right_criteria)-1, int(left_criteria)-1\n",
    "\n",
    "def get_reciprocal_grey_num(grey_num):\n",
    "    return np.array([1/grey_num[1], 1/grey_num[0]])\n",
    "\n",
    "def update_aph_matrix(grey_num_for_right_c, row_ind, col_ind):\n",
    "    grey_num_for_left_c = get_reciprocal_grey_num(grey_num_for_right_c)\n",
    "    aph_matrix[row_ind, col_ind] = np.around(grey_num_for_right_c, 3)\n",
    "    aph_matrix[col_ind, row_ind] = np.around(grey_num_for_left_c, 3)"
   ]
  },
  {
   "cell_type": "code",
   "execution_count": 84,
   "metadata": {},
   "outputs": [],
   "source": [
    "def get_code_and_side(axes_label):\n",
    "    split_label = axes_label.split('-')\n",
    "    if len(split_label) > 1:\n",
    "        return split_label[0], split_label[1] #JZ, R\n",
    "    return split_label[0], None # PZ\n",
    "\n",
    "def get_grey_number_for_code(ling_scale_code):\n",
    "    grey_num = list(scale_df[scale_df['Code'] == ling_scale_code]['Grey Numbers'])[0]\n",
    "    return np.array(grey_num)\n",
    "\n",
    "def left_c_is_more_important(side):\n",
    "    return side != None and side == 'L'\n",
    "\n",
    "def calc_grey_num_for_right_c_based_on_comparison(criteria_comparison):\n",
    "    criteria_comparison = criteria_comparison[criteria_comparison!=0]\n",
    "    length_of_series = criteria_comparison.shape[0]\n",
    "    axes = criteria_comparison.axes[0]\n",
    "    \n",
    "    grey_num_for_right_criteria = np.array([0.0, 0.0])\n",
    "    \n",
    "    for i in range(1, length_of_series-1): #skip first and last \n",
    "        axes_label = axes[i] #JZ-R\n",
    "        ling_scale_code, more_important_c_side = get_code_and_side(axes_label)\n",
    "        grey_number_for_code = get_grey_number_for_code(ling_scale_code)\n",
    "        \n",
    "        if left_c_is_more_important(more_important_c_side):\n",
    "            grey_number_for_code = get_reciprocal_grey_num(grey_number_for_code)\n",
    "       \n",
    "        num_of_evaluation_with_code = int(criteria_comparison[i])\n",
    "        grey_num_for_right_criteria +=  grey_number_for_code * num_of_evaluation_with_code\n",
    "    \n",
    "    return grey_num_for_right_criteria / number_of_evaluators"
   ]
  },
  {
   "cell_type": "code",
   "execution_count": 85,
   "metadata": {},
   "outputs": [],
   "source": [
    "num_of_comparisons = results_df.shape[0]\n",
    "\n",
    "for i in range(num_of_comparisons):\n",
    "    criteria_comparison = results_df.loc[i,:]\n",
    "    right_criteria = criteria_comparison['C-R']\n",
    "    left_criteria = criteria_comparison['C-L']\n",
    "    grey_num_for_right_c = calc_grey_num_for_right_c_based_on_comparison(criteria_comparison)\n",
    "    row_ind, col_ind = get_aph_matrix_indices_for_criteria(right_criteria, left_criteria)\n",
    "    update_aph_matrix(grey_num_for_right_c, row_ind, col_ind)\n"
   ]
  },
  {
   "cell_type": "code",
   "execution_count": 86,
   "metadata": {},
   "outputs": [
    {
     "name": "stdout",
     "output_type": "stream",
     "text": [
      "[ 1.0, 1.0 ] [ 0.1, 0.125 ] [ 1.05, 2.062 ] [ 0.625, 1.25 ] [ 5.0, 7.0 ] [ 0.133, 0.188 ] \n",
      "\n",
      "[ 8.0, 10.0 ] [ 1.0, 1.0 ] [ 5.0, 7.0 ] [ 8.0, 10.0 ] [ 8.0, 10.0 ] [ 4.0, 6.0 ] \n",
      "\n",
      "[ 0.485, 0.952 ] [ 0.143, 0.2 ] [ 1.0, 1.0 ] [ 3.0, 4.0 ] [ 4.5, 6.0 ] [ 2.125, 3.25 ] \n",
      "\n",
      "[ 0.8, 1.6 ] [ 0.1, 0.125 ] [ 0.25, 0.333 ] [ 1.0, 1.0 ] [ 2.083, 3.125 ] [ 0.146, 0.208 ] \n",
      "\n",
      "[ 0.143, 0.2 ] [ 0.1, 0.125 ] [ 0.167, 0.222 ] [ 0.32, 0.48 ] [ 1.0, 1.0 ] [ 0.112, 0.146 ] \n",
      "\n",
      "[ 5.333, 7.5 ] [ 0.167, 0.25 ] [ 0.308, 0.471 ] [ 4.8, 6.857 ] [ 6.857, 8.889 ] [ 1.0, 1.0 ] \n",
      "\n"
     ]
    }
   ],
   "source": [
    "print_matrix(aph_matrix)"
   ]
  },
  {
   "cell_type": "code",
   "execution_count": 87,
   "metadata": {},
   "outputs": [],
   "source": [
    "aph_matrix_for_validation = aph_matrix"
   ]
  },
  {
   "cell_type": "code",
   "execution_count": 88,
   "metadata": {},
   "outputs": [],
   "source": [
    "def get_normalize_grey_num(row_ind, col_ind):\n",
    "    grey_num_comparison = aph_matrix[row_ind,col_ind]\n",
    "    grey_num_lower_bound = grey_num_comparison[0]\n",
    "    grey_num_upper_bound = grey_num_comparison[1]\n",
    "\n",
    "    normalizing_factor = normalizing_factors[col_ind]\n",
    "    \n",
    "    low_bound_norm = 2 * grey_num_lower_bound / normalizing_factor\n",
    "    upper_bound_norm = 2 * grey_num_upper_bound / normalizing_factor\n",
    "    normalized_grey_num = [low_bound_norm, upper_bound_norm]\n",
    "    \n",
    "    return np.around(normalized_grey_num, 3)"
   ]
  },
  {
   "cell_type": "code",
   "execution_count": 89,
   "metadata": {},
   "outputs": [],
   "source": [
    "# normalize the grey comparison matrix\n",
    "normalized_aph_matrix = np.zeros((num_of_criteria, num_of_criteria, 2), dtype=float)\n",
    "fill_diagonal(normalized_aph_matrix, [1.0, 1.0])"
   ]
  },
  {
   "cell_type": "code",
   "execution_count": 90,
   "metadata": {},
   "outputs": [
    {
     "data": {
      "text/plain": [
       "[37.013, 3.435, 18.863000000000003, 41.332, 63.45399999999999, 18.308]"
      ]
     },
     "execution_count": 90,
     "metadata": {},
     "output_type": "execute_result"
    }
   ],
   "source": [
    "# calculate normalizing factors \n",
    "normalizing_factors = []\n",
    "\n",
    "for col in range(num_of_criteria):\n",
    "    normalizing_col = np.ravel(aph_matrix[:,col,:])\n",
    "    normalizing_factors.append(sum(normalizing_col))\n",
    "    \n",
    "normalizing_factors"
   ]
  },
  {
   "cell_type": "code",
   "execution_count": 91,
   "metadata": {},
   "outputs": [
    {
     "name": "stdout",
     "output_type": "stream",
     "text": [
      "[ 0.054, 0.054 ] [ 0.058, 0.073 ] [ 0.111, 0.219 ] [ 0.03, 0.06 ] [ 0.158, 0.221 ] [ 0.015, 0.021 ] \n",
      "\n",
      "[ 0.432, 0.54 ] [ 0.582, 0.582 ] [ 0.53, 0.742 ] [ 0.387, 0.484 ] [ 0.252, 0.315 ] [ 0.437, 0.655 ] \n",
      "\n",
      "[ 0.026, 0.051 ] [ 0.083, 0.116 ] [ 0.106, 0.106 ] [ 0.145, 0.194 ] [ 0.142, 0.189 ] [ 0.232, 0.355 ] \n",
      "\n",
      "[ 0.043, 0.086 ] [ 0.058, 0.073 ] [ 0.027, 0.035 ] [ 0.048, 0.048 ] [ 0.066, 0.098 ] [ 0.016, 0.023 ] \n",
      "\n",
      "[ 0.008, 0.011 ] [ 0.058, 0.073 ] [ 0.018, 0.024 ] [ 0.015, 0.023 ] [ 0.032, 0.032 ] [ 0.012, 0.016 ] \n",
      "\n",
      "[ 0.288, 0.405 ] [ 0.097, 0.146 ] [ 0.033, 0.05 ] [ 0.232, 0.332 ] [ 0.216, 0.28 ] [ 0.109, 0.109 ] \n",
      "\n"
     ]
    }
   ],
   "source": [
    "for i in range(num_of_criteria):\n",
    "    for j in range(num_of_criteria):\n",
    "        norm_grey_num = get_normalize_grey_num(i, j)\n",
    "        normalized_aph_matrix[i,j] = norm_grey_num\n",
    "\n",
    "print_matrix(normalized_aph_matrix)"
   ]
  },
  {
   "cell_type": "code",
   "execution_count": 92,
   "metadata": {},
   "outputs": [
    {
     "data": {
      "text/plain": [
       "[array([0.071, 0.108]),\n",
       " array([0.437, 0.553]),\n",
       " array([0.122, 0.168]),\n",
       " array([0.043, 0.06 ]),\n",
       " array([0.024, 0.03 ]),\n",
       " array([0.162, 0.22 ])]"
      ]
     },
     "execution_count": 92,
     "metadata": {},
     "output_type": "execute_result"
    }
   ],
   "source": [
    "# calculate grey weights for criteria\n",
    "grey_weights_for_criteria = []\n",
    "\n",
    "for c in range(num_of_criteria):\n",
    "    weight_row_low = np.ravel(normalized_aph_matrix[c,:,0])\n",
    "    weight_factor_low = sum(weight_row_low)\n",
    "    weight_row_upp = np.ravel(normalized_aph_matrix[c,:,1])\n",
    "    weight_factor_upp = sum(weight_row_upp)\n",
    "    \n",
    "    weight_lower_bound = weight_factor_low / num_of_criteria\n",
    "    weight_upper_bound = weight_factor_upp / num_of_criteria\n",
    "    grey_weight = np.array([weight_lower_bound, weight_upper_bound])\n",
    "    \n",
    "    grey_weights_for_criteria.append(np.around(grey_weight, 3))\n",
    "    \n",
    "grey_weights_for_criteria"
   ]
  },
  {
   "cell_type": "code",
   "execution_count": 93,
   "metadata": {},
   "outputs": [
    {
     "data": {
      "text/plain": [
       "[0.09, 0.495, 0.145, 0.052, 0.027, 0.191]"
      ]
     },
     "execution_count": 93,
     "metadata": {},
     "output_type": "execute_result"
    }
   ],
   "source": [
    "# whitenization of the grey weight with alpha=0.5\n",
    "\n",
    "crisp_weight_numbers = [(w[0] + w[1])/2 for w in grey_weights_for_criteria]\n",
    "crisp_weight_numbers = [round(w, 3) for w in crisp_weight_numbers]\n",
    "crisp_weight_numbers"
   ]
  },
  {
   "cell_type": "code",
   "execution_count": 94,
   "metadata": {},
   "outputs": [
    {
     "data": {
      "text/html": [
       "<div>\n",
       "<style scoped>\n",
       "    .dataframe tbody tr th:only-of-type {\n",
       "        vertical-align: middle;\n",
       "    }\n",
       "\n",
       "    .dataframe tbody tr th {\n",
       "        vertical-align: top;\n",
       "    }\n",
       "\n",
       "    .dataframe thead th {\n",
       "        text-align: right;\n",
       "    }\n",
       "</style>\n",
       "<table border=\"1\" class=\"dataframe\">\n",
       "  <thead>\n",
       "    <tr style=\"text-align: right;\">\n",
       "      <th></th>\n",
       "      <th>Criteria</th>\n",
       "      <th>Importance weight</th>\n",
       "    </tr>\n",
       "  </thead>\n",
       "  <tbody>\n",
       "    <tr>\n",
       "      <td>0</td>\n",
       "      <td>C1</td>\n",
       "      <td>0.090</td>\n",
       "    </tr>\n",
       "    <tr>\n",
       "      <td>1</td>\n",
       "      <td>C2</td>\n",
       "      <td>0.495</td>\n",
       "    </tr>\n",
       "    <tr>\n",
       "      <td>2</td>\n",
       "      <td>C3</td>\n",
       "      <td>0.145</td>\n",
       "    </tr>\n",
       "    <tr>\n",
       "      <td>3</td>\n",
       "      <td>C4</td>\n",
       "      <td>0.052</td>\n",
       "    </tr>\n",
       "    <tr>\n",
       "      <td>4</td>\n",
       "      <td>C5</td>\n",
       "      <td>0.027</td>\n",
       "    </tr>\n",
       "    <tr>\n",
       "      <td>5</td>\n",
       "      <td>C6</td>\n",
       "      <td>0.191</td>\n",
       "    </tr>\n",
       "  </tbody>\n",
       "</table>\n",
       "</div>"
      ],
      "text/plain": [
       "  Criteria  Importance weight\n",
       "0       C1              0.090\n",
       "1       C2              0.495\n",
       "2       C3              0.145\n",
       "3       C4              0.052\n",
       "4       C5              0.027\n",
       "5       C6              0.191"
      ]
     },
     "execution_count": 94,
     "metadata": {},
     "output_type": "execute_result"
    }
   ],
   "source": [
    "criteria_importance_weights = {'Criteria': criteria, 'Importance weight': crisp_weight_numbers}\n",
    "criteria_importance_weights_df = pd.DataFrame(data=criteria_importance_weights)\n",
    "criteria_importance_weights_df"
   ]
  },
  {
   "cell_type": "code",
   "execution_count": 95,
   "metadata": {},
   "outputs": [],
   "source": [
    "def generate_crisp_matrix_from_grey_matix(grey_matrix):\n",
    "    rows, cols, _ = grey_matrix.shape\n",
    "    crisp_matrix = np.zeros((rows, cols), dtype=float)\n",
    "    for i in range(rows):\n",
    "        for j in range(cols):\n",
    "            low, high = grey_matrix[i,j][0], grey_matrix[i,j][1]\n",
    "            crisp_matrix[i,j] = round((low+high)/2, 3)\n",
    "    return crisp_matrix"
   ]
  },
  {
   "cell_type": "code",
   "execution_count": 96,
   "metadata": {},
   "outputs": [
    {
     "name": "stdout",
     "output_type": "stream",
     "text": [
      "[ 1.0, 1.0 ] [ 0.1, 0.125 ] [ 1.05, 2.062 ] [ 0.625, 1.25 ] [ 5.0, 7.0 ] [ 0.133, 0.188 ] \n",
      "\n",
      "[ 8.0, 10.0 ] [ 1.0, 1.0 ] [ 5.0, 7.0 ] [ 8.0, 10.0 ] [ 8.0, 10.0 ] [ 4.0, 6.0 ] \n",
      "\n",
      "[ 0.485, 0.952 ] [ 0.143, 0.2 ] [ 1.0, 1.0 ] [ 3.0, 4.0 ] [ 4.5, 6.0 ] [ 2.125, 3.25 ] \n",
      "\n",
      "[ 0.8, 1.6 ] [ 0.1, 0.125 ] [ 0.25, 0.333 ] [ 1.0, 1.0 ] [ 2.083, 3.125 ] [ 0.146, 0.208 ] \n",
      "\n",
      "[ 0.143, 0.2 ] [ 0.1, 0.125 ] [ 0.167, 0.222 ] [ 0.32, 0.48 ] [ 1.0, 1.0 ] [ 0.112, 0.146 ] \n",
      "\n",
      "[ 5.333, 7.5 ] [ 0.167, 0.25 ] [ 0.308, 0.471 ] [ 4.8, 6.857 ] [ 6.857, 8.889 ] [ 1.0, 1.0 ] \n",
      "\n"
     ]
    }
   ],
   "source": [
    "# validating \n",
    "print_matrix(aph_matrix_for_validation)\n",
    "\n",
    "# transform number to a crisp to check the CR (consistency ratio) of the performance rating from experts' opinions\n"
   ]
  },
  {
   "cell_type": "code",
   "execution_count": 97,
   "metadata": {},
   "outputs": [
    {
     "name": "stdout",
     "output_type": "stream",
     "text": [
      "[[1.    0.112 1.556 0.938 6.    0.16 ]\n",
      " [9.    1.    6.    9.    9.    5.   ]\n",
      " [0.718 0.172 1.    3.5   5.25  2.688]\n",
      " [1.2   0.112 0.292 1.    2.604 0.177]\n",
      " [0.172 0.112 0.194 0.4   1.    0.129]\n",
      " [6.416 0.209 0.389 5.828 7.873 1.   ]]\n"
     ]
    }
   ],
   "source": [
    "crisp_matrix_for_validation = generate_crisp_matrix_from_grey_matix(aph_matrix_for_validation)\n",
    "np.fill_diagonal(crisp_matrix_for_validation, 1.)\n",
    "print(crisp_matrix_for_validation)"
   ]
  },
  {
   "cell_type": "code",
   "execution_count": 98,
   "metadata": {},
   "outputs": [
    {
     "name": "stdout",
     "output_type": "stream",
     "text": [
      "[[0.05403653 0.06523005 0.16498781 0.04538856 0.18911337 0.0174787 ]\n",
      " [0.48632876 0.58241118 0.63619977 0.43549792 0.28367006 0.54620931]\n",
      " [0.03879823 0.10017472 0.10603329 0.1693603  0.1654742  0.29364212]\n",
      " [0.06484383 0.06523005 0.03096172 0.04838866 0.0820752  0.01933581]\n",
      " [0.00929428 0.06523005 0.02057046 0.01935546 0.0315189  0.0140922 ]\n",
      " [0.34669837 0.12172394 0.04124695 0.2820091  0.24814826 0.10924186]]\n"
     ]
    }
   ],
   "source": [
    "# obtain the normalized matrix\n",
    "# divide each value in a column by the sum of the column values\n",
    "rows, cols = crisp_matrix_for_validation.shape\n",
    "normalized_crisp_matrix_for_validation = np.zeros((rows, cols), dtype=float)\n",
    "\n",
    "for i in range(cols):\n",
    "    column = np.ravel(crisp_matrix_for_validation[:,i])\n",
    "    normalizing_factor = np.sum(column)\n",
    "    normalized_crisp_matrix_for_validation[:,i] = column / normalizing_factor\n",
    "    \n",
    "print(normalized_crisp_matrix_for_validation)"
   ]
  },
  {
   "cell_type": "code",
   "execution_count": 101,
   "metadata": {},
   "outputs": [
    {
     "name": "stdout",
     "output_type": "stream",
     "text": [
      "[0.089 0.495 0.146 0.052 0.027 0.192]\n"
     ]
    }
   ],
   "source": [
    "# calculate the priority vector by averaging the row elements in the normalized matrix\n",
    "priority_vector = np.zeros(rows, dtype=float)\n",
    "\n",
    "for i in range(rows):\n",
    "    row = np.ravel(normalized_crisp_matrix_for_validation[i,:])\n",
    "    avg_of_row = round(np.sum(row) / rows, 3)\n",
    "    priority_vector[i] = avg_of_row\n",
    "\n",
    "print(priority_vector)"
   ]
  },
  {
   "cell_type": "code",
   "execution_count": 102,
   "metadata": {},
   "outputs": [
    {
     "name": "stdout",
     "output_type": "stream",
     "text": [
      "[0.613112 3.843    1.134888 0.361164 0.17164  1.4389  ]\n"
     ]
    }
   ],
   "source": [
    "# largest eigenvector is calculated to determine CI (consistency index)\n",
    "multiplication_vector_result = np.matmul(crisp_matrix_for_validation, priority_vector)\n",
    "print(multiplication_vector_result)"
   ]
  },
  {
   "cell_type": "code",
   "execution_count": 104,
   "metadata": {},
   "outputs": [
    {
     "name": "stdout",
     "output_type": "stream",
     "text": [
      "[0.14516108 0.12880562 0.12864706 0.14397891 0.15730599 0.13343526]\n"
     ]
    }
   ],
   "source": [
    "# divide priorty vector by eigenvector so the CI can be calculated\n",
    "ci_vector = priority_vector / multiplication_vector_result\n",
    "print(ci_vector)"
   ]
  },
  {
   "cell_type": "code",
   "execution_count": 108,
   "metadata": {},
   "outputs": [
    {
     "name": "stdout",
     "output_type": "stream",
     "text": [
      "0.13955565355879815\n",
      "-1.1720888692882405\n",
      "-1.0465079190073574\n"
     ]
    }
   ],
   "source": [
    "# calculate CI and CR\n",
    "alpha_max = np.sum(np.ravel(ci_vector)) / num_of_criteria\n",
    "print(alpha_max)\n",
    "\n",
    "consistency_index = (alpha_max - num_of_criteria) / (num_of_criteria - 1)\n",
    "print(consistency_index)\n",
    "\n",
    "ri = 1.12\n",
    "\n",
    "consistency_ratio = consistency_index / ri\n",
    "print(consistency_ratio)\n"
   ]
  },
  {
   "cell_type": "code",
   "execution_count": null,
   "metadata": {},
   "outputs": [],
   "source": []
  }
 ],
 "metadata": {
  "kernelspec": {
   "display_name": "Python 3",
   "language": "python",
   "name": "python3"
  },
  "language_info": {
   "codemirror_mode": {
    "name": "ipython",
    "version": 3
   },
   "file_extension": ".py",
   "mimetype": "text/x-python",
   "name": "python",
   "nbconvert_exporter": "python",
   "pygments_lexer": "ipython3",
   "version": "3.7.4"
  }
 },
 "nbformat": 4,
 "nbformat_minor": 2
}
